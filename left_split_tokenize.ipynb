{
 "cells": [
  {
   "cell_type": "code",
   "execution_count": 1,
   "id": "bbc0a91c-2748-4c96-9ffb-5b45bb316d0b",
   "metadata": {},
   "outputs": [
    {
     "name": "stdout",
     "output_type": "stream",
     "text": [
      "Tokenization padding side: left\n"
     ]
    }
   ],
   "source": [
    "from transformers import AutoTokenizer\n",
    "\n",
    "student_ckpt = \"meta-llama/Llama-3.2-1B-Instruct\"\n",
    "student_tokenizer = AutoTokenizer.from_pretrained(\n",
    "    student_ckpt,\n",
    "    use_fast=True,\n",
    "    device_map=\"auto\",\n",
    "    padding_side=\"left\",\n",
    "    extra_special_tokens={\"pad_token\":\"<|pad|>\", \"end_of_translation_token\":\"<|end_of_translation|>\"}\n",
    ")\n",
    "\n",
    "print(f\"Tokenization padding side: {student_tokenizer.padding_side}\")\n",
    "\n",
    "src_lang = \"en\"\n",
    "tgt_lang = \"fr\"\n",
    "\n",
    "def unlabeled_chat_template(example):\n",
    "    messages = [\n",
    "        {\"role\": \"system\", \"content\": \"You are a professional translator. Translate the provided text from English to French, remaining true to the source text. Do not add any additional commentary or conversational elements to your response.\"},\n",
    "        {\"role\": \"user\", \"content\": example[\"translation\"][src_lang]}\n",
    "    ]\n",
    "    prompt = student_tokenizer.apply_chat_template(\n",
    "        messages, tokenize=False, add_generation_prompt=True\n",
    "    )\n",
    "    return {\"prompt\": prompt}\n",
    "\n",
    "def apply_chat_template(example):\n",
    "    messages = [\n",
    "        {\"role\": \"system\", \"content\": \"You are a professional translator. Translate the provided text from English to French, remaining true to the source text. Do not add any additional commentary or conversational elements to your response.\"},\n",
    "        {\"role\": \"user\", \"content\": example[\"translation\"][src_lang]},\n",
    "        {\"role\": \"assistant\", \"content\": example[\"translation\"][tgt_lang] + student_tokenizer.end_of_translation_token}\n",
    "    ]\n",
    "    prompt = student_tokenizer.apply_chat_template(\n",
    "        messages, tokenize=False, add_generation_prompt=False\n",
    "    )\n",
    "    return {\"prompt\": prompt}"
   ]
  },
  {
   "cell_type": "code",
   "execution_count": 2,
   "id": "8b86ce5f-0edb-4514-9fff-b79d67e4f259",
   "metadata": {},
   "outputs": [
    {
     "name": "stdout",
     "output_type": "stream",
     "text": [
      "{'prompt': '<|begin_of_text|><|start_header_id|>system<|end_header_id|>\\n\\nCutting Knowledge Date: December 2023\\nToday Date: 31 Mar 2025\\n\\nYou are a professional translator. Translate the provided text from English to French, remaining true to the source text. Do not add any additional commentary or conversational elements to your response.<|eot_id|><|start_header_id|>user<|end_header_id|>\\n\\nHello<|eot_id|><|start_header_id|>assistant<|end_header_id|>\\n\\nBonjour<|end_of_translation|><|eot_id|>'}\n"
     ]
    }
   ],
   "source": [
    "print(apply_chat_template({\"translation\":{\"en\":\"Hello\", \"fr\":\"Bonjour\"}}))"
   ]
  },
  {
   "cell_type": "code",
   "execution_count": 3,
   "id": "f7fcf3cf-9633-48e3-bbf7-43b4bab5f081",
   "metadata": {},
   "outputs": [
    {
     "name": "stdout",
     "output_type": "stream",
     "text": [
      "{'prompt': '<|begin_of_text|><|start_header_id|>system<|end_header_id|>\\n\\nCutting Knowledge Date: December 2023\\nToday Date: 31 Mar 2025\\n\\nYou are a professional translator. Translate the provided text from English to French, remaining true to the source text. Do not add any additional commentary or conversational elements to your response.<|eot_id|><|start_header_id|>user<|end_header_id|>\\n\\nHello<|eot_id|><|start_header_id|>assistant<|end_header_id|>\\n\\n'}\n"
     ]
    }
   ],
   "source": [
    "print(unlabeled_chat_template({\"translation\":{\"en\":\"Hello\", \"fr\":\"Bonjour\"}}))"
   ]
  },
  {
   "cell_type": "code",
   "execution_count": 4,
   "id": "b69a9130-3fa5-4113-9eac-8bd3bb450bd3",
   "metadata": {},
   "outputs": [
    {
     "data": {
      "application/vnd.jupyter.widget-view+json": {
       "model_id": "bb26804d514647afa0f2191cec5b94ea",
       "version_major": 2,
       "version_minor": 0
      },
      "text/plain": [
       "Map:   0%|          | 0/32000 [00:00<?, ? examples/s]"
      ]
     },
     "metadata": {},
     "output_type": "display_data"
    },
    {
     "data": {
      "application/vnd.jupyter.widget-view+json": {
       "model_id": "573fe54c66314f678f7035d2b1a4f68d",
       "version_major": 2,
       "version_minor": 0
      },
      "text/plain": [
       "Map:   0%|          | 0/4571 [00:00<?, ? examples/s]"
      ]
     },
     "metadata": {},
     "output_type": "display_data"
    },
    {
     "data": {
      "application/vnd.jupyter.widget-view+json": {
       "model_id": "9e1d4e3f5ef0456dbe4003671aae514e",
       "version_major": 2,
       "version_minor": 0
      },
      "text/plain": [
       "Map:   0%|          | 0/9144 [00:00<?, ? examples/s]"
      ]
     },
     "metadata": {},
     "output_type": "display_data"
    },
    {
     "data": {
      "application/vnd.jupyter.widget-view+json": {
       "model_id": "ca3a67d4c057487dbecc06cd9148f188",
       "version_major": 2,
       "version_minor": 0
      },
      "text/plain": [
       "Map:   0%|          | 0/9144 [00:00<?, ? examples/s]"
      ]
     },
     "metadata": {},
     "output_type": "display_data"
    }
   ],
   "source": [
    "from datasets import load_dataset, Dataset\n",
    "\n",
    "# Load the dataset\n",
    "\n",
    "dataset = load_dataset(\"Helsinki-NLP/europarl\", \"en-fr\")\n",
    "\n",
    "# Shuffle it so we get a balanced distribution\n",
    "\n",
    "shuffled_dataset = dataset.shuffle(seed=42)\n",
    "# shuffled_dataset.save_to_disk(\"europarl_dataset\")\n",
    "\n",
    "# Select train, val, and test splits\n",
    "\n",
    "train_dataset = Dataset.from_dict(shuffled_dataset[\"train\"][:32000])\n",
    "val_dataset = Dataset.from_dict(shuffled_dataset[\"train\"][32000:36571])\n",
    "test_dataset = Dataset.from_dict(shuffled_dataset[\"train\"][36571:45715])\n",
    "\n",
    "# train_dataset = load_dataset(\"europarl_dataset\", split='train[:70000]')\n",
    "# val_dataset = load_dataset(\"europarl_dataset\", split='train[70000:80000]')\n",
    "# test_dataset = load_dataset(\"europarl_dataset\", split='train[80000:100000]')\n",
    "\n",
    "# Apply the prompt template\n",
    "\n",
    "train_prompt = train_dataset.map(apply_chat_template)\n",
    "val_prompt = val_dataset.map(apply_chat_template)\n",
    "test_prompt = test_dataset.map(apply_chat_template)\n",
    "\n",
    "test_prompt_unlabeled = test_dataset.map(unlabeled_chat_template)"
   ]
  },
  {
   "cell_type": "code",
   "execution_count": 5,
   "id": "b422dfd4-138c-405f-b32d-b19a25de0db3",
   "metadata": {},
   "outputs": [],
   "source": [
    "def tokenize_function(example):\n",
    "    tokens = student_tokenizer(example['prompt'], truncation=True, padding='max_length', max_length=256)\n",
    "    tokens['labels'] = [\n",
    "        -100 if token == student_tokenizer.pad_token_id else token for token in tokens['input_ids']\n",
    "    ]\n",
    "    return tokens"
   ]
  },
  {
   "cell_type": "code",
   "execution_count": 6,
   "id": "6e836e52-77bc-4665-a2a5-38a605f5252c",
   "metadata": {},
   "outputs": [
    {
     "data": {
      "application/vnd.jupyter.widget-view+json": {
       "model_id": "739fd8f18fdc4cf3bd33f806c6a3f625",
       "version_major": 2,
       "version_minor": 0
      },
      "text/plain": [
       "Map:   0%|          | 0/32000 [00:00<?, ? examples/s]"
      ]
     },
     "metadata": {},
     "output_type": "display_data"
    },
    {
     "data": {
      "application/vnd.jupyter.widget-view+json": {
       "model_id": "118dcbfcf07b4ef5ba3970c96f505930",
       "version_major": 2,
       "version_minor": 0
      },
      "text/plain": [
       "Map:   0%|          | 0/9144 [00:00<?, ? examples/s]"
      ]
     },
     "metadata": {},
     "output_type": "display_data"
    },
    {
     "data": {
      "application/vnd.jupyter.widget-view+json": {
       "model_id": "78c9e86d46e5437881c368d9c7819a56",
       "version_major": 2,
       "version_minor": 0
      },
      "text/plain": [
       "Map:   0%|          | 0/4571 [00:00<?, ? examples/s]"
      ]
     },
     "metadata": {},
     "output_type": "display_data"
    },
    {
     "data": {
      "application/vnd.jupyter.widget-view+json": {
       "model_id": "9e230bed44774aa69ca28be0b5c6ba98",
       "version_major": 2,
       "version_minor": 0
      },
      "text/plain": [
       "Map:   0%|          | 0/9144 [00:00<?, ? examples/s]"
      ]
     },
     "metadata": {},
     "output_type": "display_data"
    },
    {
     "data": {
      "application/vnd.jupyter.widget-view+json": {
       "model_id": "0ce602d50cdd4254b4922b1132585b4a",
       "version_major": 2,
       "version_minor": 0
      },
      "text/plain": [
       "Saving the dataset (0/1 shards):   0%|          | 0/32000 [00:00<?, ? examples/s]"
      ]
     },
     "metadata": {},
     "output_type": "display_data"
    },
    {
     "data": {
      "application/vnd.jupyter.widget-view+json": {
       "model_id": "1d5f1914d9ee49568a55842706da1e67",
       "version_major": 2,
       "version_minor": 0
      },
      "text/plain": [
       "Saving the dataset (0/1 shards):   0%|          | 0/4571 [00:00<?, ? examples/s]"
      ]
     },
     "metadata": {},
     "output_type": "display_data"
    },
    {
     "data": {
      "application/vnd.jupyter.widget-view+json": {
       "model_id": "f00a7bd85a744f969b8efe4f56b03476",
       "version_major": 2,
       "version_minor": 0
      },
      "text/plain": [
       "Saving the dataset (0/1 shards):   0%|          | 0/9144 [00:00<?, ? examples/s]"
      ]
     },
     "metadata": {},
     "output_type": "display_data"
    },
    {
     "data": {
      "application/vnd.jupyter.widget-view+json": {
       "model_id": "8dda43f36d2b4e02a4ced7bc9c5404a9",
       "version_major": 2,
       "version_minor": 0
      },
      "text/plain": [
       "Saving the dataset (0/1 shards):   0%|          | 0/9144 [00:00<?, ? examples/s]"
      ]
     },
     "metadata": {},
     "output_type": "display_data"
    }
   ],
   "source": [
    "train_tokenized = train_prompt.map(tokenize_function)\n",
    "test_tokenized = test_prompt.map(tokenize_function)\n",
    "val_tokenized = val_prompt.map(tokenize_function)\n",
    "\n",
    "test_unlabeled_tokenized = test_prompt_unlabeled.map(tokenize_function)\n",
    "\n",
    "train_tokenized.save_to_disk(\"europarl_dataset/train_tokenized\")\n",
    "val_tokenized.save_to_disk(\"europarl_dataset/val_tokenized\")\n",
    "test_tokenized.save_to_disk(\"europarl_dataset/test_tokenized\")\n",
    "test_unlabeled_tokenized.save_to_disk(\"europarl_dataset/test_tokenized_unlabeled\")"
   ]
  },
  {
   "cell_type": "code",
   "execution_count": 7,
   "id": "c3a08213-80fe-4870-a9f9-ada7995f7384",
   "metadata": {},
   "outputs": [
    {
     "name": "stderr",
     "output_type": "stream",
     "text": [
      "2025-03-31 23:34:49.580492: E external/local_xla/xla/stream_executor/cuda/cuda_fft.cc:467] Unable to register cuFFT factory: Attempting to register factory for plugin cuFFT when one has already been registered\n",
      "WARNING: All log messages before absl::InitializeLog() is called are written to STDERR\n",
      "E0000 00:00:1743478489.598461  899774 cuda_dnn.cc:8579] Unable to register cuDNN factory: Attempting to register factory for plugin cuDNN when one has already been registered\n",
      "E0000 00:00:1743478489.604017  899774 cuda_blas.cc:1407] Unable to register cuBLAS factory: Attempting to register factory for plugin cuBLAS when one has already been registered\n",
      "W0000 00:00:1743478489.618971  899774 computation_placer.cc:177] computation placer already registered. Please check linkage and avoid linking the same target more than once.\n",
      "W0000 00:00:1743478489.618981  899774 computation_placer.cc:177] computation placer already registered. Please check linkage and avoid linking the same target more than once.\n",
      "W0000 00:00:1743478489.618984  899774 computation_placer.cc:177] computation placer already registered. Please check linkage and avoid linking the same target more than once.\n",
      "W0000 00:00:1743478489.618986  899774 computation_placer.cc:177] computation placer already registered. Please check linkage and avoid linking the same target more than once.\n",
      "2025-03-31 23:34:49.623829: I tensorflow/core/platform/cpu_feature_guard.cc:210] This TensorFlow binary is optimized to use available CPU instructions in performance-critical operations.\n",
      "To enable the following instructions: AVX2 FMA, in other operations, rebuild TensorFlow with the appropriate compiler flags.\n"
     ]
    },
    {
     "name": "stdout",
     "output_type": "stream",
     "text": [
      "<|pad|><|pad|><|pad|><|pad|><|pad|><|pad|><|pad|><|pad|><|pad|><|pad|><|pad|><|pad|><|pad|><|pad|><|pad|><|pad|><|pad|><|pad|><|pad|><|pad|><|pad|><|begin_of_text|><|begin_of_text|><|start_header_id|>system<|end_header_id|>\n",
      "\n",
      "Cutting Knowledge Date: December 2023\n",
      "Today Date: 31 Mar 2025\n",
      "\n",
      "You are a professional translator. Translate the provided text from English to French, remaining true to the source text. Do not add any additional commentary or conversational elements to your response.<|eot_id|><|start_header_id|>user<|end_header_id|>\n",
      "\n",
      "This institution – which, I would take this opportunity to point out, has absolutely no democratic or electoral legitimacy – can, as and when it sees fit, withdraw or modify a legislative proposal, inform or not inform Parliament of the reasons for its decision and take account, or not take account, of Parliament’s opinion. In short, it can do what it wishes.<|eot_id|><|start_header_id|>assistant<|end_header_id|>\n",
      "\n",
      "Cette institution - dont je rappelle ici qu’elle n’a absolument aucune légitimité démocratique ou élective - peut en effet, selon son bon vouloir et à tout moment, retirer ou modifier une proposition législative, informer ou non le Parlement des raisons de sa décision, tenir compte ou non de l’avis de celui-ci, bref, faire ce qu’elle veut.<|end_of_translation|><|eot_id|>\n"
     ]
    }
   ],
   "source": [
    "print(student_tokenizer.decode(train_tokenized[100][\"input_ids\"]))"
   ]
  },
  {
   "cell_type": "code",
   "execution_count": null,
   "id": "e1c62ea6-3d9a-410f-8d97-9216a3001fcf",
   "metadata": {},
   "outputs": [],
   "source": []
  }
 ],
 "metadata": {
  "kernelspec": {
   "display_name": "Python 3 (ipykernel)",
   "language": "python",
   "name": "python3"
  },
  "language_info": {
   "codemirror_mode": {
    "name": "ipython",
    "version": 3
   },
   "file_extension": ".py",
   "mimetype": "text/x-python",
   "name": "python",
   "nbconvert_exporter": "python",
   "pygments_lexer": "ipython3",
   "version": "3.10.16"
  }
 },
 "nbformat": 4,
 "nbformat_minor": 5
}
